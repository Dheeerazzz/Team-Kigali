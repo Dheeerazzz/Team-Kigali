{
 "cells": [
  {
   "cell_type": "markdown",
   "metadata": {},
   "source": [
    "# **WEB SCRAPING**\n",
    "\n",
    "<p><h3>Web scraping is a powerful technique used for extracting data from websites. Here, we will use some popular libraries for web scraping like, <code>requests</code>, <code>BeautifulSoup</code>, and <code>selenium</code>.</h3></p>"
   ]
  },
  {
   "cell_type": "code",
   "execution_count": 1,
   "metadata": {},
   "outputs": [],
   "source": [
    "import pandas as pd\n",
    "import requests\n",
    "from bs4 import BeautifulSoup"
   ]
  },
  {
   "cell_type": "markdown",
   "metadata": {},
   "source": [
    "<p><h3>The web scraping is being performed on Murali website, link in <code>baseurl</code> </h3><p>"
   ]
  },
  {
   "cell_type": "code",
   "execution_count": 2,
   "metadata": {},
   "outputs": [],
   "source": [
    "baseurl = 'https://murukali.com/en-weshipworldwide'"
   ]
  },
  {
   "cell_type": "code",
   "execution_count": 3,
   "metadata": {},
   "outputs": [
    {
     "name": "stdout",
     "output_type": "stream",
     "text": [
      "750\n"
     ]
    }
   ],
   "source": [
    "productlinks = []\n",
    "#Looping through multiple pages of the Home Stuff Collection\n",
    "for x in range(1,6):\n",
    "    #Adding a f string to help put a number in between the string\n",
    "    r = requests.get('https://murukali.com/en-weshipworldwide/collections/home-stuff?page={x}&grid_list=grid-view')\n",
    "    soup = BeautifulSoup(r.content, 'lxml')\n",
    "    \n",
    "    product_list = soup.find_all('div', class_='productitem')\n",
    "    \n",
    "    #Append the base url with each webpages link\n",
    "    for item in product_list:\n",
    "        for link in item.find_all('a', href = True):\n",
    "            productlinks.append(baseurl + link['href'])\n",
    "        \n",
    "print(len(productlinks))"
   ]
  },
  {
   "cell_type": "markdown",
   "metadata": {},
   "source": [
    "<p><h4>To test the product name</h4></p>"
   ]
  },
  {
   "cell_type": "code",
   "execution_count": 4,
   "metadata": {},
   "outputs": [
    {
     "ename": "AttributeError",
     "evalue": "'NoneType' object has no attribute 'text'",
     "output_type": "error",
     "traceback": [
      "\u001b[1;31m---------------------------------------------------------------------------\u001b[0m",
      "\u001b[1;31mAttributeError\u001b[0m                            Traceback (most recent call last)",
      "\u001b[1;32mc:\\Users\\DELL\\Documents\\CWW\\Bootcamp\\Data Analysis\\Team Kigali\\Mona.ipynb Cell 6\u001b[0m line \u001b[0;36m1\n\u001b[0;32m      <a href='vscode-notebook-cell:/c%3A/Users/DELL/Documents/CWW/Bootcamp/Data%20Analysis/Team%20Kigali/Mona.ipynb#W5sZmlsZQ%3D%3D?line=7'>8</a>\u001b[0m name \u001b[39m=\u001b[39m soup\u001b[39m.\u001b[39mfind(\u001b[39m'\u001b[39m\u001b[39mh1\u001b[39m\u001b[39m'\u001b[39m, class_\u001b[39m=\u001b[39m\u001b[39m'\u001b[39m\u001b[39mproduct-title\u001b[39m\u001b[39m'\u001b[39m)\u001b[39m.\u001b[39mtext\u001b[39m.\u001b[39mstrip() \u001b[39m#Strip to remove white space\u001b[39;00m\n\u001b[0;32m      <a href='vscode-notebook-cell:/c%3A/Users/DELL/Documents/CWW/Bootcamp/Data%20Analysis/Team%20Kigali/Mona.ipynb#W5sZmlsZQ%3D%3D?line=8'>9</a>\u001b[0m rating \u001b[39m=\u001b[39m soup\u001b[39m.\u001b[39mfind(\u001b[39m'\u001b[39m\u001b[39mspan\u001b[39m\u001b[39m'\u001b[39m, class_ \u001b[39m=\u001b[39m \u001b[39m'\u001b[39m\u001b[39mspr-badge\u001b[39m\u001b[39m'\u001b[39m)\u001b[39m.\u001b[39mtext\u001b[39m.\u001b[39mstrip()\n\u001b[1;32m---> <a href='vscode-notebook-cell:/c%3A/Users/DELL/Documents/CWW/Bootcamp/Data%20Analysis/Team%20Kigali/Mona.ipynb#W5sZmlsZQ%3D%3D?line=9'>10</a>\u001b[0m reviews \u001b[39m=\u001b[39m soup\u001b[39m.\u001b[39;49mfind(\u001b[39m'\u001b[39;49m\u001b[39mspan\u001b[39;49m\u001b[39m'\u001b[39;49m, class_ \u001b[39m=\u001b[39;49m \u001b[39m'\u001b[39;49m\u001b[39mspr-badge-caption\u001b[39;49m\u001b[39m'\u001b[39;49m)\u001b[39m.\u001b[39;49mtext\u001b[39m.\u001b[39mstrip()\n\u001b[0;32m     <a href='vscode-notebook-cell:/c%3A/Users/DELL/Documents/CWW/Bootcamp/Data%20Analysis/Team%20Kigali/Mona.ipynb#W5sZmlsZQ%3D%3D?line=10'>11</a>\u001b[0m price \u001b[39m=\u001b[39m soup\u001b[39m.\u001b[39mfind(\u001b[39m'\u001b[39m\u001b[39mdiv\u001b[39m\u001b[39m'\u001b[39m, class_ \u001b[39m=\u001b[39m \u001b[39m'\u001b[39m\u001b[39mprice--main\u001b[39m\u001b[39m'\u001b[39m)\u001b[39m.\u001b[39mtext\u001b[39m.\u001b[39mstrip()\n\u001b[0;32m     <a href='vscode-notebook-cell:/c%3A/Users/DELL/Documents/CWW/Bootcamp/Data%20Analysis/Team%20Kigali/Mona.ipynb#W5sZmlsZQ%3D%3D?line=11'>12</a>\u001b[0m \u001b[39mprint\u001b[39m(reviews)\n",
      "\u001b[1;31mAttributeError\u001b[0m: 'NoneType' object has no attribute 'text'"
     ]
    }
   ],
   "source": [
    "#Test a product \n",
    "testlink = 'https://murukali.com/en-weshipworldwide/collections/home-stuff/products/everyday-dish-sponge'\n",
    "\n",
    "r = requests.get(testlink)\n",
    "\n",
    "soup = BeautifulSoup(r.content, 'lxml')\n",
    "\n",
    "name = soup.find('h1', class_='product-title').text.strip() #Strip to remove white space\n",
    "rating = soup.find('span', class_ = 'spr-badge').text.strip()\n",
    "reviews = soup.find('span', class_ = 'spr-badge-caption').text.strip()\n",
    "price = soup.find('div', class_ = 'price--main').text.strip()\n",
    "print(reviews)\n"
   ]
  },
  {
   "cell_type": "code",
   "execution_count": null,
   "metadata": {},
   "outputs": [],
   "source": []
  }
 ],
 "metadata": {
  "kernelspec": {
   "display_name": "Python 3",
   "language": "python",
   "name": "python3"
  },
  "language_info": {
   "codemirror_mode": {
    "name": "ipython",
    "version": 3
   },
   "file_extension": ".py",
   "mimetype": "text/x-python",
   "name": "python",
   "nbconvert_exporter": "python",
   "pygments_lexer": "ipython3",
   "version": "3.11.5"
  },
  "orig_nbformat": 4
 },
 "nbformat": 4,
 "nbformat_minor": 2
}
