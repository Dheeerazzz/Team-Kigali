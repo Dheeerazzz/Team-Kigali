{
 "cells": [
  {
   "cell_type": "markdown",
   "metadata": {},
   "source": [
    "# **WEB SCRAPING**\n",
    "\n",
    "<p><h3>Web scraping is a powerful technique used for extracting data from websites. Here, we will use some popular libraries for web scraping like, <code>requests</code>, <code>BeautifulSoup</code>, and <code>selenium</code>.</h3></p>"
   ]
  },
  {
   "cell_type": "code",
   "execution_count": 1,
   "metadata": {},
   "outputs": [],
   "source": [
    "import pandas as pd\n",
    "import requests\n",
    "from bs4 import BeautifulSoup\n",
    "\n",
    "import datetime\n",
    "\n",
    "import smtplib #This library is used to send an email"
   ]
  },
  {
   "cell_type": "markdown",
   "metadata": {},
   "source": [
    "<p><h3>The web scraping is being performed on Address Guru website, link in <code>baseurl</code> </h3><p>"
   ]
  },
  {
   "cell_type": "code",
   "execution_count": 2,
   "metadata": {},
   "outputs": [],
   "source": [
    "baseurl = 'https://www.addressguru.in/'\n",
    "\n",
    "headers = {\n",
    "    \"User-Agent\": \"Mozilla/5.0 (Windows NT 10.0; Win64; x64; rv:109.0) Gecko/20100101 Firefox/117.0\"\n",
    "}"
   ]
  },
  {
   "cell_type": "markdown",
   "metadata": {},
   "source": [
    "## *Scraping the Cafe & Restaurant Category*"
   ]
  },
  {
   "cell_type": "code",
   "execution_count": 3,
   "metadata": {},
   "outputs": [
    {
     "name": "stdout",
     "output_type": "stream",
     "text": [
      "23\n"
     ]
    }
   ],
   "source": [
    "r =requests.get('https://www.addressguru.in/Cafe-&-Restaurants/Dehradun/MTM=')\n",
    "\n",
    "soupy = BeautifulSoup(r.content, 'lxml')\n",
    "soup = BeautifulSoup(soupy.prettify(), 'lxml')\n",
    "\n",
    "product_list = soup.find_all('div', class_ = 'search-top')\n",
    "\n",
    "print(len(product_list))"
   ]
  },
  {
   "cell_type": "code",
   "execution_count": 4,
   "metadata": {},
   "outputs": [
    {
     "name": "stdout",
     "output_type": "stream",
     "text": [
      "200\n"
     ]
    }
   ],
   "source": [
    "product_link = []\n",
    "\n",
    "#Range of 3 pages\n",
    "for x in range(1,3):\n",
    "    #Format with a f-string\n",
    "    r = requests.get(f\"https://www.addressguru.in/Cafe-&-Restaurants/Dehradun/MTM=?page={x}\", headers = headers)\n",
    "    \n",
    "    soupy = BeautifulSoup(r.content, 'lxml')\n",
    "    soup = BeautifulSoup(soupy.prettify(), 'lxml')\n",
    "    \n",
    "    product_list = soup.find_all('div', class_ = 'search-top')\n",
    "    \n",
    "    for item in product_list:\n",
    "        for link in item.find_all('a', href = True):\n",
    "            product_link.append(baseurl + link['href'])\n",
    "\n",
    "print(len(product_link))"
   ]
  },
  {
   "cell_type": "markdown",
   "metadata": {},
   "source": [
    "### **Test Page**"
   ]
  },
  {
   "cell_type": "code",
   "execution_count": 5,
   "metadata": {},
   "outputs": [
    {
     "name": "stdout",
     "output_type": "stream",
     "text": [
      "My Wife's Place 5 ( 2 Reviews ) 2023-09-27\n"
     ]
    }
   ],
   "source": [
    "testlink = 'https://www.addressguru.in/my-wife-s-place'\n",
    "\n",
    "r = requests.get(testlink, headers = headers)\n",
    "\n",
    "soup1 = BeautifulSoup(r.content, 'lxml')\n",
    "soup2 = BeautifulSoup(soup1.prettify(), 'lxml')\n",
    "\n",
    "name = soup2.find('h1', style = \"margin-top:10px;font-size:25px;\").get_text().strip()\n",
    "\n",
    "rating = soup2.find('span', style = \"font-size:16px!important;\").get_text().strip()[:1]\n",
    "\n",
    "review = soup2.find('span', style = \"font-size:16px!important;\").get_text().strip()[-13:]\n",
    "\n",
    "day = datetime.date.today()\n",
    "\n",
    "CafeAndRestaurant = {\n",
    "    'name': name,\n",
    "    'rating': rating,\n",
    "    'review': review,\n",
    "    'date': day\n",
    "}\n",
    "\n",
    "print(name, rating, review, day)"
   ]
  },
  {
   "cell_type": "markdown",
   "metadata": {},
   "source": [
    "## **Finalise Category Scraping**\n",
    "\n",
    "<p>Collecting all data through the product links and converting into a <code>DataFrame</code> and saving as a spreadsheet file.</p>"
   ]
  },
  {
   "cell_type": "code",
   "execution_count": null,
   "metadata": {},
   "outputs": [],
   "source": [
    "#CafeAndRestaurant = []\n",
    "\n",
    "for link in product_link:\n",
    "    r = requests.get(link, headers = headers)\n",
    "\n",
    "    soup1 = BeautifulSoup(r.content, 'lxml')\n",
    "    soup2 = BeautifulSoup(soup1.prettify(), 'lxml')\n",
    "\n",
    "    name = soup2.find('h1', style = \"margin-top:10px;font-size:25px;\").get_text().strip()\n",
    "\n",
    "    rating = soup2.find('span', style = \"font-size:16px!important;\").get_text().strip()[:1]\n",
    "\n",
    "    review = soup2.find('span', style = \"font-size:16px!important;\").get_text().strip()[-13:]\n",
    "    \n",
    "    day = datetime.date.today()\n",
    "\n",
    "    CafeAndRestaurant = {\n",
    "        'name': name,\n",
    "        'rating': rating,\n",
    "        'review': review,\n",
    "        'date': day\n",
    "    }\n",
    "    \n",
    "    print(CafeAndRestaurant)"
   ]
  },
  {
   "cell_type": "code",
   "execution_count": null,
   "metadata": {},
   "outputs": [],
   "source": []
  }
 ],
 "metadata": {
  "kernelspec": {
   "display_name": "Python 3",
   "language": "python",
   "name": "python3"
  },
  "language_info": {
   "codemirror_mode": {
    "name": "ipython",
    "version": 3
   },
   "file_extension": ".py",
   "mimetype": "text/x-python",
   "name": "python",
   "nbconvert_exporter": "python",
   "pygments_lexer": "ipython3",
   "version": "3.11.5"
  },
  "orig_nbformat": 4
 },
 "nbformat": 4,
 "nbformat_minor": 2
}
